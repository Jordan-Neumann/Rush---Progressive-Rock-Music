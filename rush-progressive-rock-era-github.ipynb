{
 "cells": [
  {
   "cell_type": "markdown",
   "metadata": {
    "_cell_guid": "0def2deb-bc10-4708-b3c3-9a6dc0bd8fcd",
    "_uuid": "55f3321b-1838-4132-92c4-6275d12707f0",
    "papermill": {
     "duration": 0.030221,
     "end_time": "2021-01-14T01:26:11.853999",
     "exception": false,
     "start_time": "2021-01-14T01:26:11.823778",
     "status": "completed"
    },
    "tags": []
   },
   "source": [
    "# Rush - Introduction\n",
    "\n",
    "Rush is a classic rock band from Canada that has recorded 165 original songs on 19 studio albums.  I am a huge fan of the band's progressive rock era that spanned from 1974 to 1981.  You may have heard some of the songs from that time e.g. Closer To The Heart, Tom Sawyer, and Freewill. \n",
    "\n",
    "In this notebook, we will use data from Spotify to classify wether or not individual tracks were recorded during the band's progressive rock era.  \n",
    "\n",
    "**Feature Description**\n",
    "\n",
    "* name \n",
    "* album \n",
    "* release date \n",
    "* length \n",
    "* popularity  \n",
    "* acousticness\n",
    "* danceability \n",
    "* energy\n",
    "* instrumentalness \n",
    "* liveness  \n",
    "* loudness  \n",
    "* speechiness \n",
    "* tempo \n",
    "* time_signature \n",
    "* progressive: 0 = not in the progressive rock era, 1 = in the progressive rock era\n",
    "\n",
    "\n",
    "\n",
    "## Let's get started!"
   ]
  },
  {
   "cell_type": "code",
   "execution_count": 1,
   "metadata": {
    "_cell_guid": "530fc92d-8de1-4a72-aba8-711999615786",
    "_uuid": "2a095b7f-164e-4807-9f7b-25eac4e816bf",
    "execution": {
     "iopub.execute_input": "2021-01-14T01:26:11.916743Z",
     "iopub.status.busy": "2021-01-14T01:26:11.916014Z",
     "iopub.status.idle": "2021-01-14T01:26:13.538689Z",
     "shell.execute_reply": "2021-01-14T01:26:13.538043Z"
    },
    "papermill": {
     "duration": 1.655094,
     "end_time": "2021-01-14T01:26:13.538808",
     "exception": false,
     "start_time": "2021-01-14T01:26:11.883714",
     "status": "completed"
    },
    "tags": []
   },
   "outputs": [],
   "source": [
    "import numpy as np\n",
    "import pandas as pd\n",
    "\n",
    "# Plots\n",
    "import matplotlib.pyplot as plt\n",
    "import seaborn as sns\n",
    "\n",
    "# Models\n",
    "from sklearn.linear_model import LogisticRegression\n",
    "from sklearn.ensemble import RandomForestClassifier\n",
    "\n",
    "# Ignore warnings\n",
    "import warnings\n",
    "warnings.filterwarnings(action=\"ignore\")\n",
    "pd.options.display.max_seq_items = 8000\n",
    "pd.options.display.max_rows = 8000\n",
    "\n",
    "# Misc\n",
    "from sklearn.model_selection import train_test_split\n",
    "from sklearn.model_selection import GridSearchCV\n",
    "from sklearn.model_selection import cross_val_score\n",
    "from sklearn import metrics\n",
    "from sklearn.metrics import classification_report\n",
    "from sklearn.metrics import confusion_matrix\n",
    "from sklearn.metrics import roc_curve\n",
    "from sklearn.metrics import roc_auc_score\n",
    "from sklearn.metrics import ConfusionMatrixDisplay\n",
    "from sklearn.preprocessing import MinMaxScaler, StandardScaler\n",
    "from imblearn.over_sampling import SMOTE"
   ]
  },
  {
   "cell_type": "code",
   "execution_count": 2,
   "metadata": {
    "execution": {
     "iopub.execute_input": "2021-01-14T01:26:13.614659Z",
     "iopub.status.busy": "2021-01-14T01:26:13.613923Z",
     "iopub.status.idle": "2021-01-14T01:26:13.632289Z",
     "shell.execute_reply": "2021-01-14T01:26:13.631673Z"
    },
    "papermill": {
     "duration": 0.062635,
     "end_time": "2021-01-14T01:26:13.632408",
     "exception": false,
     "start_time": "2021-01-14T01:26:13.569773",
     "status": "completed"
    },
    "tags": []
   },
   "outputs": [],
   "source": [
    "# Load the data as a dataframe\n",
    "df = pd.read_csv(\"../input/spotifydata/spotify.csv\")"
   ]
  },
  {
   "cell_type": "markdown",
   "metadata": {
    "papermill": {
     "duration": 0.028637,
     "end_time": "2021-01-14T01:26:13.693071",
     "exception": false,
     "start_time": "2021-01-14T01:26:13.664434",
     "status": "completed"
    },
    "tags": []
   },
   "source": [
    "# EDA "
   ]
  },
  {
   "cell_type": "code",
   "execution_count": 3,
   "metadata": {
    "_cell_guid": "6e6ae12a-091a-456a-8fb7-f8d24c818246",
    "_uuid": "0a479066-81fa-42f2-828e-5a3435d512c2",
    "execution": {
     "iopub.execute_input": "2021-01-14T01:26:13.762394Z",
     "iopub.status.busy": "2021-01-14T01:26:13.761510Z",
     "iopub.status.idle": "2021-01-14T01:26:13.784613Z",
     "shell.execute_reply": "2021-01-14T01:26:13.783943Z"
    },
    "papermill": {
     "duration": 0.062733,
     "end_time": "2021-01-14T01:26:13.784724",
     "exception": false,
     "start_time": "2021-01-14T01:26:13.721991",
     "status": "completed"
    },
    "tags": []
   },
   "outputs": [
    {
     "name": "stdout",
     "output_type": "stream",
     "text": [
      "<class 'pandas.core.frame.DataFrame'>\n",
      "RangeIndex: 165 entries, 0 to 164\n",
      "Data columns (total 15 columns):\n",
      " #   Column            Non-Null Count  Dtype  \n",
      "---  ------            --------------  -----  \n",
      " 0   name              165 non-null    object \n",
      " 1   album             165 non-null    object \n",
      " 2   release_date      165 non-null    object \n",
      " 3   length            165 non-null    int64  \n",
      " 4   popularity        165 non-null    int64  \n",
      " 5   danceability      165 non-null    float64\n",
      " 6   acousticness      165 non-null    float64\n",
      " 7   energy            165 non-null    float64\n",
      " 8   instrumentalness  165 non-null    float64\n",
      " 9   liveness          165 non-null    float64\n",
      " 10  loudness          165 non-null    float64\n",
      " 11  speechiness       165 non-null    float64\n",
      " 12  tempo             165 non-null    float64\n",
      " 13  time_signature    165 non-null    int64  \n",
      " 14  progressive       165 non-null    int64  \n",
      "dtypes: float64(8), int64(4), object(3)\n",
      "memory usage: 19.5+ KB\n"
     ]
    }
   ],
   "source": [
    "df.info()"
   ]
  },
  {
   "cell_type": "markdown",
   "metadata": {
    "_cell_guid": "040497ca-593f-47de-9069-addec1781139",
    "_uuid": "aa42b09e-dd1f-4ec4-a4a7-1dbfdfb45c54",
    "papermill": {
     "duration": 0.030096,
     "end_time": "2021-01-14T01:26:13.845451",
     "exception": false,
     "start_time": "2021-01-14T01:26:13.815355",
     "status": "completed"
    },
    "tags": []
   },
   "source": [
    "* The data has 165 observations, 14 feature columns and 1 target column.\n",
    "* Let's to change time_signature and double_bass to categorical variables."
   ]
  },
  {
   "cell_type": "code",
   "execution_count": 4,
   "metadata": {
    "_cell_guid": "8b004392-1b5d-4e05-9fbf-76d3175c6523",
    "_uuid": "27c70832-1c2f-42a2-9490-23a970fbb519",
    "execution": {
     "iopub.execute_input": "2021-01-14T01:26:13.915595Z",
     "iopub.status.busy": "2021-01-14T01:26:13.914923Z",
     "iopub.status.idle": "2021-01-14T01:26:13.917970Z",
     "shell.execute_reply": "2021-01-14T01:26:13.918402Z"
    },
    "papermill": {
     "duration": 0.042464,
     "end_time": "2021-01-14T01:26:13.918526",
     "exception": false,
     "start_time": "2021-01-14T01:26:13.876062",
     "status": "completed"
    },
    "tags": []
   },
   "outputs": [],
   "source": [
    "df['time_signature'] = df['time_signature'].map( {1:'1',3:'3',4:'4',5:'5'}).astype(object)\n",
    "df['progressive'] = df['progressive'].map( {1:'1',0:'0'}).astype(object)"
   ]
  },
  {
   "cell_type": "code",
   "execution_count": 5,
   "metadata": {
    "_cell_guid": "ac789f81-ffe4-4af1-be27-becc6f77b99e",
    "_uuid": "083d6207-6ed2-4cb6-ae3a-54a10645e651",
    "execution": {
     "iopub.execute_input": "2021-01-14T01:26:13.968440Z",
     "iopub.status.busy": "2021-01-14T01:26:13.967373Z",
     "iopub.status.idle": "2021-01-14T01:26:14.010999Z",
     "shell.execute_reply": "2021-01-14T01:26:14.010426Z"
    },
    "papermill": {
     "duration": 0.070793,
     "end_time": "2021-01-14T01:26:14.011098",
     "exception": false,
     "start_time": "2021-01-14T01:26:13.940305",
     "status": "completed"
    },
    "tags": []
   },
   "outputs": [
    {
     "data": {
      "text/html": [
       "<div>\n",
       "<style scoped>\n",
       "    .dataframe tbody tr th:only-of-type {\n",
       "        vertical-align: middle;\n",
       "    }\n",
       "\n",
       "    .dataframe tbody tr th {\n",
       "        vertical-align: top;\n",
       "    }\n",
       "\n",
       "    .dataframe thead th {\n",
       "        text-align: right;\n",
       "    }\n",
       "</style>\n",
       "<table border=\"1\" class=\"dataframe\">\n",
       "  <thead>\n",
       "    <tr style=\"text-align: right;\">\n",
       "      <th></th>\n",
       "      <th>length</th>\n",
       "      <th>popularity</th>\n",
       "      <th>danceability</th>\n",
       "      <th>acousticness</th>\n",
       "      <th>energy</th>\n",
       "      <th>instrumentalness</th>\n",
       "      <th>liveness</th>\n",
       "      <th>loudness</th>\n",
       "      <th>speechiness</th>\n",
       "      <th>tempo</th>\n",
       "    </tr>\n",
       "  </thead>\n",
       "  <tbody>\n",
       "    <tr>\n",
       "      <th>count</th>\n",
       "      <td>1.650000e+02</td>\n",
       "      <td>165.000000</td>\n",
       "      <td>165.000000</td>\n",
       "      <td>165.000000</td>\n",
       "      <td>165.000000</td>\n",
       "      <td>165.000000</td>\n",
       "      <td>165.000000</td>\n",
       "      <td>165.000000</td>\n",
       "      <td>165.000000</td>\n",
       "      <td>165.000000</td>\n",
       "    </tr>\n",
       "    <tr>\n",
       "      <th>mean</th>\n",
       "      <td>3.240948e+05</td>\n",
       "      <td>35.800000</td>\n",
       "      <td>0.490745</td>\n",
       "      <td>0.058242</td>\n",
       "      <td>0.808359</td>\n",
       "      <td>0.079361</td>\n",
       "      <td>0.204821</td>\n",
       "      <td>-8.123879</td>\n",
       "      <td>0.047049</td>\n",
       "      <td>128.088303</td>\n",
       "    </tr>\n",
       "    <tr>\n",
       "      <th>std</th>\n",
       "      <td>1.477352e+05</td>\n",
       "      <td>9.187213</td>\n",
       "      <td>0.100090</td>\n",
       "      <td>0.135755</td>\n",
       "      <td>0.156146</td>\n",
       "      <td>0.176016</td>\n",
       "      <td>0.158320</td>\n",
       "      <td>2.417246</td>\n",
       "      <td>0.018114</td>\n",
       "      <td>21.280619</td>\n",
       "    </tr>\n",
       "    <tr>\n",
       "      <th>min</th>\n",
       "      <td>8.757300e+04</td>\n",
       "      <td>22.000000</td>\n",
       "      <td>0.202000</td>\n",
       "      <td>0.000006</td>\n",
       "      <td>0.033300</td>\n",
       "      <td>0.000000</td>\n",
       "      <td>0.047200</td>\n",
       "      <td>-23.826000</td>\n",
       "      <td>0.024800</td>\n",
       "      <td>78.003000</td>\n",
       "    </tr>\n",
       "    <tr>\n",
       "      <th>25%</th>\n",
       "      <td>2.640660e+05</td>\n",
       "      <td>29.000000</td>\n",
       "      <td>0.424000</td>\n",
       "      <td>0.000502</td>\n",
       "      <td>0.773000</td>\n",
       "      <td>0.000419</td>\n",
       "      <td>0.092300</td>\n",
       "      <td>-9.478000</td>\n",
       "      <td>0.034300</td>\n",
       "      <td>115.009000</td>\n",
       "    </tr>\n",
       "    <tr>\n",
       "      <th>50%</th>\n",
       "      <td>2.985330e+05</td>\n",
       "      <td>34.000000</td>\n",
       "      <td>0.500000</td>\n",
       "      <td>0.008970</td>\n",
       "      <td>0.854000</td>\n",
       "      <td>0.011300</td>\n",
       "      <td>0.143000</td>\n",
       "      <td>-7.926000</td>\n",
       "      <td>0.042400</td>\n",
       "      <td>126.741000</td>\n",
       "    </tr>\n",
       "    <tr>\n",
       "      <th>75%</th>\n",
       "      <td>3.376000e+05</td>\n",
       "      <td>40.000000</td>\n",
       "      <td>0.553000</td>\n",
       "      <td>0.055200</td>\n",
       "      <td>0.913000</td>\n",
       "      <td>0.055600</td>\n",
       "      <td>0.298000</td>\n",
       "      <td>-6.414000</td>\n",
       "      <td>0.053100</td>\n",
       "      <td>140.130000</td>\n",
       "    </tr>\n",
       "    <tr>\n",
       "      <th>max</th>\n",
       "      <td>1.233666e+06</td>\n",
       "      <td>73.000000</td>\n",
       "      <td>0.748000</td>\n",
       "      <td>0.966000</td>\n",
       "      <td>0.973000</td>\n",
       "      <td>0.866000</td>\n",
       "      <td>0.911000</td>\n",
       "      <td>-3.799000</td>\n",
       "      <td>0.123000</td>\n",
       "      <td>200.342000</td>\n",
       "    </tr>\n",
       "  </tbody>\n",
       "</table>\n",
       "</div>"
      ],
      "text/plain": [
       "             length  popularity  danceability  acousticness      energy  \\\n",
       "count  1.650000e+02  165.000000    165.000000    165.000000  165.000000   \n",
       "mean   3.240948e+05   35.800000      0.490745      0.058242    0.808359   \n",
       "std    1.477352e+05    9.187213      0.100090      0.135755    0.156146   \n",
       "min    8.757300e+04   22.000000      0.202000      0.000006    0.033300   \n",
       "25%    2.640660e+05   29.000000      0.424000      0.000502    0.773000   \n",
       "50%    2.985330e+05   34.000000      0.500000      0.008970    0.854000   \n",
       "75%    3.376000e+05   40.000000      0.553000      0.055200    0.913000   \n",
       "max    1.233666e+06   73.000000      0.748000      0.966000    0.973000   \n",
       "\n",
       "       instrumentalness    liveness    loudness  speechiness       tempo  \n",
       "count        165.000000  165.000000  165.000000   165.000000  165.000000  \n",
       "mean           0.079361    0.204821   -8.123879     0.047049  128.088303  \n",
       "std            0.176016    0.158320    2.417246     0.018114   21.280619  \n",
       "min            0.000000    0.047200  -23.826000     0.024800   78.003000  \n",
       "25%            0.000419    0.092300   -9.478000     0.034300  115.009000  \n",
       "50%            0.011300    0.143000   -7.926000     0.042400  126.741000  \n",
       "75%            0.055600    0.298000   -6.414000     0.053100  140.130000  \n",
       "max            0.866000    0.911000   -3.799000     0.123000  200.342000  "
      ]
     },
     "execution_count": 5,
     "metadata": {},
     "output_type": "execute_result"
    }
   ],
   "source": [
    "df.describe()"
   ]
  },
  {
   "cell_type": "markdown",
   "metadata": {
    "_cell_guid": "49c54377-4720-49f5-9fa1-6786539bdabc",
    "_uuid": "3b94c27d-2658-4ffa-92f2-99548497b7b6",
    "papermill": {
     "duration": 0.033566,
     "end_time": "2021-01-14T01:26:14.078279",
     "exception": false,
     "start_time": "2021-01-14T01:26:14.044713",
     "status": "completed"
    },
    "tags": []
   },
   "source": [
    "* There are no missing values.\n",
    "* We need to consider scaling the data because the means and standard deviations vary considerably between features."
   ]
  },
  {
   "cell_type": "code",
   "execution_count": 6,
   "metadata": {
    "_cell_guid": "1804f946-ca07-44cb-89ed-5967e0b3ebf9",
    "_uuid": "f4061d9f-1cd4-456a-b0cb-89e9691e5928",
    "execution": {
     "iopub.execute_input": "2021-01-14T01:26:14.158879Z",
     "iopub.status.busy": "2021-01-14T01:26:14.157818Z",
     "iopub.status.idle": "2021-01-14T01:26:14.167170Z",
     "shell.execute_reply": "2021-01-14T01:26:14.166458Z"
    },
    "papermill": {
     "duration": 0.054591,
     "end_time": "2021-01-14T01:26:14.167332",
     "exception": false,
     "start_time": "2021-01-14T01:26:14.112741",
     "status": "completed"
    },
    "tags": []
   },
   "outputs": [
    {
     "data": {
      "text/plain": [
       "array(['name', 'album', 'release_date', 'length', 'popularity',\n",
       "       'danceability', 'acousticness', 'energy', 'instrumentalness',\n",
       "       'liveness', 'loudness', 'speechiness', 'tempo', 'time_signature',\n",
       "       'progressive'], dtype=object)"
      ]
     },
     "execution_count": 6,
     "metadata": {},
     "output_type": "execute_result"
    }
   ],
   "source": [
    "df.columns.values"
   ]
  },
  {
   "cell_type": "markdown",
   "metadata": {
    "_cell_guid": "e1a2007c-6165-46d4-8149-6ae9fc6cf8c3",
    "_uuid": "31f812e4-2427-44dd-aa60-7e8d38604b94",
    "papermill": {
     "duration": 0.047215,
     "end_time": "2021-01-14T01:26:14.261894",
     "exception": false,
     "start_time": "2021-01-14T01:26:14.214679",
     "status": "completed"
    },
    "tags": []
   },
   "source": [
    "Let's remove unnecessary features.\n",
    "\n",
    "* name -  This variable is not helpful for this project.\n",
    "\n",
    "* album and realease_date - These variables will be almost perfect predictors so we will remove them."
   ]
  },
  {
   "cell_type": "code",
   "execution_count": 7,
   "metadata": {
    "_cell_guid": "c31c7959-73e8-40b7-a987-77ecd8e46e4a",
    "_uuid": "4cd6c67e-bea1-4324-96db-78c170767168",
    "execution": {
     "iopub.execute_input": "2021-01-14T01:26:14.361269Z",
     "iopub.status.busy": "2021-01-14T01:26:14.360159Z",
     "iopub.status.idle": "2021-01-14T01:26:14.370307Z",
     "shell.execute_reply": "2021-01-14T01:26:14.369675Z"
    },
    "papermill": {
     "duration": 0.060739,
     "end_time": "2021-01-14T01:26:14.370440",
     "exception": false,
     "start_time": "2021-01-14T01:26:14.309701",
     "status": "completed"
    },
    "tags": []
   },
   "outputs": [],
   "source": [
    "df.drop(['name','album','release_date'], axis = 1, inplace = True)"
   ]
  },
  {
   "cell_type": "markdown",
   "metadata": {
    "papermill": {
     "duration": 0.030896,
     "end_time": "2021-01-14T01:26:14.433531",
     "exception": false,
     "start_time": "2021-01-14T01:26:14.402635",
     "status": "completed"
    },
    "tags": []
   },
   "source": [
    "## progressive: the target variable"
   ]
  },
  {
   "cell_type": "code",
   "execution_count": 8,
   "metadata": {
    "execution": {
     "iopub.execute_input": "2021-01-14T01:26:14.503677Z",
     "iopub.status.busy": "2021-01-14T01:26:14.503022Z",
     "iopub.status.idle": "2021-01-14T01:26:14.719569Z",
     "shell.execute_reply": "2021-01-14T01:26:14.720066Z"
    },
    "papermill": {
     "duration": 0.254921,
     "end_time": "2021-01-14T01:26:14.720218",
     "exception": false,
     "start_time": "2021-01-14T01:26:14.465297",
     "status": "completed"
    },
    "tags": []
   },
   "outputs": [
    {
     "data": {
      "image/png": "[encoded data removed]",
      "text/plain": [
       "<Figure size 432x432 with 1 Axes>"
      ]
     },
     "metadata": {
      "needs_background": "light"
     },
     "output_type": "display_data"
    }
   ],
   "source": [
    "# Create plot space\n",
    "fig=plt.figure(figsize = (6,6))\n",
    "\n",
    "# Create plot\n",
    "p = sns.countplot(x = df['progressive'], data = df)"
   ]
  },
  {
   "cell_type": "markdown",
   "metadata": {
    "papermill": {
     "duration": 0.032388,
     "end_time": "2021-01-14T01:26:14.785695",
     "exception": false,
     "start_time": "2021-01-14T01:26:14.753307",
     "status": "completed"
    },
    "tags": []
   },
   "source": [
    "The target variable is imbalanced.  We need to explore resampling methods."
   ]
  },
  {
   "cell_type": "markdown",
   "metadata": {
    "_cell_guid": "91208ac7-e0a8-4cdf-b8c7-19a1cedf17ef",
    "_uuid": "0d596ed9-b9df-4618-b867-dfde3768c452",
    "papermill": {
     "duration": 0.032378,
     "end_time": "2021-01-14T01:26:14.850919",
     "exception": false,
     "start_time": "2021-01-14T01:26:14.818541",
     "status": "completed"
    },
    "tags": []
   },
   "source": [
    "## Numerical Data"
   ]
  },
  {
   "cell_type": "code",
   "execution_count": 9,
   "metadata": {
    "_cell_guid": "9a8709b1-fd29-436c-8196-c470a51ba42a",
    "_uuid": "5564aab4-96e2-4ea3-a6d4-70e477af0e43",
    "execution": {
     "iopub.execute_input": "2021-01-14T01:26:14.924847Z",
     "iopub.status.busy": "2021-01-14T01:26:14.922976Z",
     "iopub.status.idle": "2021-01-14T01:26:15.786113Z",
     "shell.execute_reply": "2021-01-14T01:26:15.785572Z"
    },
    "papermill": {
     "duration": 0.902455,
     "end_time": "2021-01-14T01:26:15.786250",
     "exception": false,
     "start_time": "2021-01-14T01:26:14.883795",
     "status": "completed"
    },
    "tags": []
   },
   "outputs": [
    {
     "data": {
      "text/plain": [
       "<matplotlib.axes._subplots.AxesSubplot at 0x7f170017b2d0>"
      ]
     },
     "execution_count": 9,
     "metadata": {},
     "output_type": "execute_result"
    },
    {
     "data": {
      "image/png": "[encoded data removed]",
      "text/plain": [
       "<Figure size 1080x864 with 2 Axes>"
      ]
     },
     "metadata": {
      "needs_background": "light"
     },
     "output_type": "display_data"
    }
   ],
   "source": [
    "# Create plotting space\n",
    "plt.subplots(figsize=(15,12))\n",
    "\n",
    "# Calculate correlations\n",
    "corr = df.corr()\n",
    "\n",
    "# Plot the correlations\n",
    "sns.heatmap(corr, vmax=0.9, cmap=\"Blues\", square=True, annot=True)"
   ]
  },
  {
   "cell_type": "markdown",
   "metadata": {
    "papermill": {
     "duration": 0.035803,
     "end_time": "2021-01-14T01:26:15.857587",
     "exception": false,
     "start_time": "2021-01-14T01:26:15.821784",
     "status": "completed"
    },
    "tags": []
   },
   "source": [
    "* It seems there are two relationships that have high correlations.\n",
    "\n",
    "* Energy and loudness have a correlation of .77.  This makes sense because loudness is a component of energy, according to Spotify's documentation shown below.\n",
    "* \"Typically, energetic tracks feel fast, **loud**, and noisy. For example, death metal has high energy, while a Bach prelude scores low on the scale. Perceptual features contributing to this attribute include dynamic range, **perceived loudness**, timbre, onset rate, and general entropy.\"\n",
    "\n",
    "* Energy and acousticness have a correlation of -.72.\n",
    "\n",
    "* Let's compare energy and loudness to the target variable."
   ]
  },
  {
   "cell_type": "code",
   "execution_count": 10,
   "metadata": {
    "execution": {
     "iopub.execute_input": "2021-01-14T01:26:15.951514Z",
     "iopub.status.busy": "2021-01-14T01:26:15.947388Z",
     "iopub.status.idle": "2021-01-14T01:26:16.234846Z",
     "shell.execute_reply": "2021-01-14T01:26:16.235542Z"
    },
    "papermill": {
     "duration": 0.341713,
     "end_time": "2021-01-14T01:26:16.235722",
     "exception": false,
     "start_time": "2021-01-14T01:26:15.894009",
     "status": "completed"
    },
    "tags": []
   },
   "outputs": [
    {
     "data": {
      "image/png": "[encoded data removed]",
      "text/plain": [
       "<Figure size 720x720 with 2 Axes>"
      ]
     },
     "metadata": {
      "needs_background": "light"
     },
     "output_type": "display_data"
    }
   ],
   "source": [
    "fig = plt.figure(figsize=(10,10))\n",
    "\n",
    "ax1 = fig.add_subplot(221)\n",
    "g = sns.boxplot(x=\"progressive\", y=\"energy\", data=df, ax=ax1) \n",
    "\n",
    "ax2 = fig.add_subplot(222)\n",
    "g = sns.boxplot(x=\"progressive\", y=\"loudness\", data=df, ax=ax2) \n",
    "\n",
    "plt.close(2)\n",
    "plt.close(3)\n",
    "plt.tight_layout()"
   ]
  },
  {
   "cell_type": "markdown",
   "metadata": {
    "papermill": {
     "duration": 0.054289,
     "end_time": "2021-01-14T01:26:16.344017",
     "exception": false,
     "start_time": "2021-01-14T01:26:16.289728",
     "status": "completed"
    },
    "tags": []
   },
   "source": [
    "* It is hard to determine which of these varibales is a better predictor of the target variable.\n",
    "\n",
    "* Let's perform a logistic regression to obatian a numerical determination."
   ]
  },
  {
   "cell_type": "code",
   "execution_count": 11,
   "metadata": {
    "execution": {
     "iopub.execute_input": "2021-01-14T01:26:16.459057Z",
     "iopub.status.busy": "2021-01-14T01:26:16.458448Z",
     "iopub.status.idle": "2021-01-14T01:26:16.463046Z",
     "shell.execute_reply": "2021-01-14T01:26:16.462330Z"
    },
    "papermill": {
     "duration": 0.064722,
     "end_time": "2021-01-14T01:26:16.463174",
     "exception": false,
     "start_time": "2021-01-14T01:26:16.398452",
     "status": "completed"
    },
    "tags": []
   },
   "outputs": [],
   "source": [
    "# Reshape columns into array for logistic regression\n",
    "loud = df['loudness']\n",
    "loud = loud.to_numpy()\n",
    "loud = loud.reshape(-1,1)\n",
    "\n",
    "energy = df['energy']\n",
    "energy  = energy .to_numpy()\n",
    "energy  = energy .reshape(-1,1)\n",
    "\n",
    "db = df['progressive']\n",
    "db = db .to_numpy()\n",
    "db = db .reshape(-1,1)"
   ]
  },
  {
   "cell_type": "code",
   "execution_count": 12,
   "metadata": {
    "execution": {
     "iopub.execute_input": "2021-01-14T01:26:16.588644Z",
     "iopub.status.busy": "2021-01-14T01:26:16.587612Z",
     "iopub.status.idle": "2021-01-14T01:26:16.593971Z",
     "shell.execute_reply": "2021-01-14T01:26:16.593122Z"
    },
    "papermill": {
     "duration": 0.076529,
     "end_time": "2021-01-14T01:26:16.594110",
     "exception": false,
     "start_time": "2021-01-14T01:26:16.517581",
     "status": "completed"
    },
    "tags": []
   },
   "outputs": [
    {
     "name": "stdout",
     "output_type": "stream",
     "text": [
      "Model accuracy:  0.758\n"
     ]
    }
   ],
   "source": [
    "log1 = LogisticRegression()\n",
    "log1.fit(loud, db)\n",
    "print(\"Model accuracy: \", round(log1.score(loud,db),3))"
   ]
  },
  {
   "cell_type": "code",
   "execution_count": 13,
   "metadata": {
    "execution": {
     "iopub.execute_input": "2021-01-14T01:26:16.722018Z",
     "iopub.status.busy": "2021-01-14T01:26:16.721147Z",
     "iopub.status.idle": "2021-01-14T01:26:16.729455Z",
     "shell.execute_reply": "2021-01-14T01:26:16.728087Z"
    },
    "papermill": {
     "duration": 0.076159,
     "end_time": "2021-01-14T01:26:16.729584",
     "exception": false,
     "start_time": "2021-01-14T01:26:16.653425",
     "status": "completed"
    },
    "tags": []
   },
   "outputs": [
    {
     "name": "stdout",
     "output_type": "stream",
     "text": [
      "Model accuracy:  0.752\n"
     ]
    }
   ],
   "source": [
    "log1 = LogisticRegression()\n",
    "log1.fit(energy, db)\n",
    "print(\"Model accuracy: \", round(log1.score(energy, db),3))"
   ]
  },
  {
   "cell_type": "markdown",
   "metadata": {
    "papermill": {
     "duration": 0.037414,
     "end_time": "2021-01-14T01:26:16.805206",
     "exception": false,
     "start_time": "2021-01-14T01:26:16.767792",
     "status": "completed"
    },
    "tags": []
   },
   "source": [
    "* The results are almost the same.  The common demnomitor between our two concerning correlations is energy, so let's remove it.\n",
    "* This also takes care of the high correlation between energy and acousticness."
   ]
  },
  {
   "cell_type": "code",
   "execution_count": 14,
   "metadata": {
    "execution": {
     "iopub.execute_input": "2021-01-14T01:26:16.886623Z",
     "iopub.status.busy": "2021-01-14T01:26:16.885902Z",
     "iopub.status.idle": "2021-01-14T01:26:16.888563Z",
     "shell.execute_reply": "2021-01-14T01:26:16.889028Z"
    },
    "papermill": {
     "duration": 0.046901,
     "end_time": "2021-01-14T01:26:16.889167",
     "exception": false,
     "start_time": "2021-01-14T01:26:16.842266",
     "status": "completed"
    },
    "tags": []
   },
   "outputs": [],
   "source": [
    "df.drop(['energy'], axis = 1, inplace = True)"
   ]
  },
  {
   "cell_type": "markdown",
   "metadata": {
    "papermill": {
     "duration": 0.036433,
     "end_time": "2021-01-14T01:26:16.963590",
     "exception": false,
     "start_time": "2021-01-14T01:26:16.927157",
     "status": "completed"
    },
    "tags": []
   },
   "source": [
    "### Let's explore the numerical variable distributions."
   ]
  },
  {
   "cell_type": "code",
   "execution_count": 15,
   "metadata": {
    "_cell_guid": "fa7956be-7a12-44fb-aa41-af5c5c7610b7",
    "_uuid": "be926984-ef3e-4b0f-aa28-749a0308e759",
    "execution": {
     "iopub.execute_input": "2021-01-14T01:26:17.053105Z",
     "iopub.status.busy": "2021-01-14T01:26:17.046857Z",
     "iopub.status.idle": "2021-01-14T01:26:18.696579Z",
     "shell.execute_reply": "2021-01-14T01:26:18.697296Z"
    },
    "papermill": {
     "duration": 1.697243,
     "end_time": "2021-01-14T01:26:18.697445",
     "exception": false,
     "start_time": "2021-01-14T01:26:17.000202",
     "status": "completed"
    },
    "tags": []
   },
   "outputs": [
    {
     "data": {
      "image/png": "[encoded data removed]",
      "text/plain": [
       "<Figure size 720x1080 with 9 Axes>"
      ]
     },
     "metadata": {
      "needs_background": "light"
     },
     "output_type": "display_data"
    }
   ],
   "source": [
    "# Create dataset with only numerical values\n",
    "numericaldata = df.select_dtypes(exclude='object')\n",
    "\n",
    "# Create plot space\n",
    "fig = plt.figure(figsize=(10,15))\n",
    "\n",
    "# Create subplot for each loop\n",
    "for i in range(len(numericaldata.columns)):\n",
    "    fig.add_subplot(6,4,i+1)\n",
    "    sns.distplot(numericaldata.iloc[:,i])\n",
    "    plt.xlabel(numericaldata.columns[i])\n",
    "\n",
    "# Display plots        \n",
    "plt.tight_layout()\n",
    "plt.show()"
   ]
  },
  {
   "cell_type": "markdown",
   "metadata": {
    "papermill": {
     "duration": 0.038555,
     "end_time": "2021-01-14T01:26:18.775687",
     "exception": false,
     "start_time": "2021-01-14T01:26:18.737132",
     "status": "completed"
    },
    "tags": []
   },
   "source": [
    "* Danceability and tempo are normally distributed.\n",
    "\n",
    "* Let's looks at skew for each variable. Skew is significant when it is greater than 2 or less than -2. "
   ]
  },
  {
   "cell_type": "code",
   "execution_count": 16,
   "metadata": {
    "execution": {
     "iopub.execute_input": "2021-01-14T01:26:18.862597Z",
     "iopub.status.busy": "2021-01-14T01:26:18.861820Z",
     "iopub.status.idle": "2021-01-14T01:26:18.869719Z",
     "shell.execute_reply": "2021-01-14T01:26:18.870412Z"
    },
    "papermill": {
     "duration": 0.055539,
     "end_time": "2021-01-14T01:26:18.870580",
     "exception": false,
     "start_time": "2021-01-14T01:26:18.815041",
     "status": "completed"
    },
    "tags": []
   },
   "outputs": [
    {
     "name": "stdout",
     "output_type": "stream",
     "text": [
      "Skew for length is 3.85\n",
      "Skew for acousticness is 4.15\n",
      "Skew for instrumentalness is 3.11\n"
     ]
    }
   ],
   "source": [
    "# Loop through each feature\n",
    "for column in numericaldata:\n",
    "    \n",
    "    # calculate skew for feature\n",
    "    sk = round(df[column].skew(), 2)\n",
    "    \n",
    "    # Print if skew is significant\n",
    "    if sk > 2 or sk < -2:\n",
    "        print(\"Skew for\", column, \"is\", sk)"
   ]
  },
  {
   "cell_type": "markdown",
   "metadata": {
    "papermill": {
     "duration": 0.039522,
     "end_time": "2021-01-14T01:26:18.950057",
     "exception": false,
     "start_time": "2021-01-14T01:26:18.910535",
     "status": "completed"
    },
    "tags": []
   },
   "source": [
    "* There are three variables with significant skew.\n",
    "\n",
    "* Let's see how the skew changes after taking the natural logs of each variables."
   ]
  },
  {
   "cell_type": "code",
   "execution_count": 17,
   "metadata": {
    "execution": {
     "iopub.execute_input": "2021-01-14T01:26:19.035794Z",
     "iopub.status.busy": "2021-01-14T01:26:19.035110Z",
     "iopub.status.idle": "2021-01-14T01:26:19.045647Z",
     "shell.execute_reply": "2021-01-14T01:26:19.044975Z"
    },
    "papermill": {
     "duration": 0.056356,
     "end_time": "2021-01-14T01:26:19.045762",
     "exception": false,
     "start_time": "2021-01-14T01:26:18.989406",
     "status": "completed"
    },
    "tags": []
   },
   "outputs": [
    {
     "name": "stdout",
     "output_type": "stream",
     "text": [
      "Skewness log of  length is 0.86\n",
      "Skewness log of  acousticness is -0.35\n",
      "Skewness log of  instrumentalness is nan\n"
     ]
    }
   ],
   "source": [
    "# Loop through each feature\n",
    "for column in ['length','acousticness', 'instrumentalness']:\n",
    "    \n",
    "    # calculate skew for feature after logging \n",
    "    sk = round(np.log(df[column]).skew(), 2)\n",
    "    print(\"Skewness log of \", column, \"is\", sk)"
   ]
  },
  {
   "cell_type": "markdown",
   "metadata": {
    "papermill": {
     "duration": 0.039488,
     "end_time": "2021-01-14T01:26:19.124935",
     "exception": false,
     "start_time": "2021-01-14T01:26:19.085447",
     "status": "completed"
    },
    "tags": []
   },
   "source": [
    "* Intrumentalness' skew becomes nan after logging because the variable contain zeros.\n",
    "\n",
    "* We will only take the natural log of length and acousticness."
   ]
  },
  {
   "cell_type": "code",
   "execution_count": 18,
   "metadata": {
    "execution": {
     "iopub.execute_input": "2021-01-14T01:26:19.212263Z",
     "iopub.status.busy": "2021-01-14T01:26:19.211651Z",
     "iopub.status.idle": "2021-01-14T01:26:19.215669Z",
     "shell.execute_reply": "2021-01-14T01:26:19.214852Z"
    },
    "papermill": {
     "duration": 0.051087,
     "end_time": "2021-01-14T01:26:19.215793",
     "exception": false,
     "start_time": "2021-01-14T01:26:19.164706",
     "status": "completed"
    },
    "tags": []
   },
   "outputs": [],
   "source": [
    "for column in ['length', 'acousticness']:\n",
    "    df[column] = np.log(df[column])"
   ]
  },
  {
   "cell_type": "code",
   "execution_count": 19,
   "metadata": {
    "execution": {
     "iopub.execute_input": "2021-01-14T01:26:19.350790Z",
     "iopub.status.busy": "2021-01-14T01:26:19.343113Z",
     "iopub.status.idle": "2021-01-14T01:26:21.890644Z",
     "shell.execute_reply": "2021-01-14T01:26:21.891176Z"
    },
    "papermill": {
     "duration": 2.615983,
     "end_time": "2021-01-14T01:26:21.891369",
     "exception": false,
     "start_time": "2021-01-14T01:26:19.275386",
     "status": "completed"
    },
    "tags": []
   },
   "outputs": [
    {
     "data": {
      "image/png": "[encoded data removed]",
      "text/plain": [
       "<Figure size 864x1224 with 9 Axes>"
      ]
     },
     "metadata": {
      "needs_background": "light"
     },
     "output_type": "display_data"
    }
   ],
   "source": [
    "fig = plt.figure(figsize=(12,17))\n",
    "col = list(df.columns.values[:9])\n",
    "i = 0\n",
    "\n",
    "for column in col:\n",
    "    i = i\n",
    "    fig.add_subplot(4,4,i+1)\n",
    "    g = sns.boxplot(x=\"progressive\", y=column, data=df)\n",
    "    plt.tight_layout()\n",
    "    i += 1"
   ]
  },
  {
   "cell_type": "markdown",
   "metadata": {
    "papermill": {
     "duration": 0.041876,
     "end_time": "2021-01-14T01:26:21.975468",
     "exception": false,
     "start_time": "2021-01-14T01:26:21.933592",
     "status": "completed"
    },
    "tags": []
   },
   "source": [
    "* I expect popularity, danceability, and acousticness to be significant predictors.\n",
    "* There seems to be a significant difference in the mean popularity for the two levels of the progressive variable\n",
    "* This is also true for danceability and acousticness.\n",
    "* An additional reason I expect acousticness to be significant is that according to the boxplot(not the distribution plot), it is normally distributed.  Normally distributed variables tend to increase the accuracy of predictions.\n",
    "* Tempo follows a normal distribuion, but its boxplot did not seem show significant differences for the two levels of progression.  Therefore, I do not expect it to be significant."
   ]
  },
  {
   "cell_type": "markdown",
   "metadata": {
    "papermill": {
     "duration": 0.040876,
     "end_time": "2021-01-14T01:26:22.057793",
     "exception": false,
     "start_time": "2021-01-14T01:26:22.016917",
     "status": "completed"
    },
    "tags": []
   },
   "source": [
    "# Modeling\n",
    "\n",
    "\n",
    "### You get bonus points if you understand why I've chosen 2112 for the random_state."
   ]
  },
  {
   "cell_type": "code",
   "execution_count": 20,
   "metadata": {
    "execution": {
     "iopub.execute_input": "2021-01-14T01:26:22.172383Z",
     "iopub.status.busy": "2021-01-14T01:26:22.170168Z",
     "iopub.status.idle": "2021-01-14T01:26:22.183668Z",
     "shell.execute_reply": "2021-01-14T01:26:22.182988Z"
    },
    "papermill": {
     "duration": 0.090789,
     "end_time": "2021-01-14T01:26:22.183782",
     "exception": false,
     "start_time": "2021-01-14T01:26:22.092993",
     "status": "completed"
    },
    "tags": []
   },
   "outputs": [],
   "source": [
    "# Create test and train data\n",
    "X = df.loc[:, df.columns != 'progressive']\n",
    "y = df.progressive\n",
    "\n",
    "X_train_org, X_test_org, y_train, y_test = train_test_split(X,y, test_size = .3, random_state = 2112)\n",
    "\n",
    "# Create balanced training data\n",
    "smote = SMOTE(sampling_strategy = 'minority', random_state = 2112)\n",
    "X_train_smote, y_train_smote = smote.fit_sample(X_train_org, y_train)"
   ]
  },
  {
   "cell_type": "code",
   "execution_count": 21,
   "metadata": {
    "execution": {
     "iopub.execute_input": "2021-01-14T01:26:22.285607Z",
     "iopub.status.busy": "2021-01-14T01:26:22.272011Z",
     "iopub.status.idle": "2021-01-14T01:26:22.410074Z",
     "shell.execute_reply": "2021-01-14T01:26:22.409362Z"
    },
    "papermill": {
     "duration": 0.184872,
     "end_time": "2021-01-14T01:26:22.410188",
     "exception": false,
     "start_time": "2021-01-14T01:26:22.225316",
     "status": "completed"
    },
    "tags": []
   },
   "outputs": [
    {
     "data": {
      "image/png": "[encoded data removed]",
      "text/plain": [
       "<Figure size 432x432 with 1 Axes>"
      ]
     },
     "metadata": {
      "needs_background": "light"
     },
     "output_type": "display_data"
    }
   ],
   "source": [
    "# Create plot space\n",
    "fig=plt.figure(figsize = (6,6))\n",
    "\n",
    "# Create plot\n",
    "p = sns.countplot(x = y_train_smote, data = df)"
   ]
  },
  {
   "cell_type": "markdown",
   "metadata": {
    "papermill": {
     "duration": 0.042558,
     "end_time": "2021-01-14T01:26:22.495406",
     "exception": false,
     "start_time": "2021-01-14T01:26:22.452848",
     "status": "completed"
    },
    "tags": []
   },
   "source": [
    "## Random Forest Base Model"
   ]
  },
  {
   "cell_type": "code",
   "execution_count": 22,
   "metadata": {
    "execution": {
     "iopub.execute_input": "2021-01-14T01:26:22.599696Z",
     "iopub.status.busy": "2021-01-14T01:26:22.592693Z",
     "iopub.status.idle": "2021-01-14T01:26:32.719517Z",
     "shell.execute_reply": "2021-01-14T01:26:32.718818Z"
    },
    "papermill": {
     "duration": 10.181705,
     "end_time": "2021-01-14T01:26:32.719670",
     "exception": false,
     "start_time": "2021-01-14T01:26:22.537965",
     "status": "completed"
    },
    "tags": []
   },
   "outputs": [
    {
     "name": "stdout",
     "output_type": "stream",
     "text": [
      "=== ROC Score ===\n",
      "ROC - Random Forest:  0.827\n",
      "\n",
      "\n",
      "=== Mean AUC Score ===\n",
      "Mean AUC Score - Random Forest:  0.933\n",
      "\n",
      "\n"
     ]
    },
    {
     "data": {
      "image/png": "[encoded data removed]",
      "text/plain": [
       "<Figure size 432x288 with 1 Axes>"
      ]
     },
     "metadata": {
      "needs_background": "light"
     },
     "output_type": "display_data"
    }
   ],
   "source": [
    "# Create the base model\n",
    "base_model = RandomForestClassifier(random_state = 2112, n_estimators = 500)\n",
    "base_model.fit(X_train_smote,y_train_smote)\n",
    "\n",
    "# Create predictions\n",
    "y_pred = base_model.predict(X_test_org)\n",
    "\n",
    "# Create probabilities for ROC score\n",
    "probs = base_model.predict_proba(X_test_org)\n",
    "probs = probs[:,1]\n",
    "\n",
    "# Calculate AUC score\n",
    "auc_cv_score = cross_val_score(base_model, X_test_org, y_test, cv=10, scoring = \"roc_auc\")\n",
    "\n",
    "# Print different model metrics\n",
    "print(\"=== ROC Score ===\")\n",
    "print(\"ROC - Random Forest: \", round(roc_auc_score(y_test,probs),3))\n",
    "print('\\n')\n",
    "print(\"=== Mean AUC Score ===\")\n",
    "print(\"Mean AUC Score - Random Forest: \", round(np.nanmean(auc_cv_score), 3))\n",
    "print('\\n')\n",
    "# I used nanmean above instead of mean because one of the AUC cross-validated results did not have any false positives.\n",
    "# This resulted in a nan value.\n",
    "# The nanmean function ignores nan values when calculating the mean.\n",
    "\n",
    "labels = [\"Actual\",\"Predicted\"]\n",
    "cm = confusion_matrix(y_pred,y_test, labels=[\"1\",\"0\"])\n",
    "disp = ConfusionMatrixDisplay(confusion_matrix=cm)\n",
    "disp.plot(cmap = \"Blues\") \n",
    "disp.ax_.set(xlabel='Actual',ylabel='Predicted', title = 'Confusion Matrix')\n",
    "disp.im_.colorbar.remove()"
   ]
  },
  {
   "cell_type": "code",
   "execution_count": 23,
   "metadata": {
    "execution": {
     "iopub.execute_input": "2021-01-14T01:26:32.826077Z",
     "iopub.status.busy": "2021-01-14T01:26:32.821666Z",
     "iopub.status.idle": "2021-01-14T01:26:32.830757Z",
     "shell.execute_reply": "2021-01-14T01:26:32.830017Z"
    },
    "papermill": {
     "duration": 0.06514,
     "end_time": "2021-01-14T01:26:32.830898",
     "exception": false,
     "start_time": "2021-01-14T01:26:32.765758",
     "status": "completed"
    },
    "tags": []
   },
   "outputs": [],
   "source": [
    "scaler = StandardScaler()\n",
    "X_train_smote_scaled = scaler.fit_transform(X_train_smote)\n",
    "X_test_scaled = scaler.transform(X_test_org)"
   ]
  },
  {
   "cell_type": "code",
   "execution_count": 24,
   "metadata": {
    "execution": {
     "iopub.execute_input": "2021-01-14T01:26:32.978040Z",
     "iopub.status.busy": "2021-01-14T01:26:32.971733Z",
     "iopub.status.idle": "2021-01-14T01:26:35.284989Z",
     "shell.execute_reply": "2021-01-14T01:26:35.285573Z"
    },
    "papermill": {
     "duration": 2.389725,
     "end_time": "2021-01-14T01:26:35.285728",
     "exception": false,
     "start_time": "2021-01-14T01:26:32.896003",
     "status": "completed"
    },
    "tags": []
   },
   "outputs": [
    {
     "name": "stdout",
     "output_type": "stream",
     "text": [
      "=== ROC Score ===\n",
      "ROC - Random Forest:  0.824\n",
      "\n",
      "\n",
      "=== Mean AUC Score ===\n",
      "Mean AUC Score - Random Forest:  0.958\n",
      "\n",
      "\n"
     ]
    },
    {
     "data": {
      "image/png": "[encoded data removed]",
      "text/plain": [
       "<Figure size 432x288 with 1 Axes>"
      ]
     },
     "metadata": {
      "needs_background": "light"
     },
     "output_type": "display_data"
    }
   ],
   "source": [
    "# Create the base model\n",
    "base_model = RandomForestClassifier(random_state = 2112)\n",
    "base_model.fit(X_train_smote_scaled,y_train_smote)\n",
    "\n",
    "# Create predictions\n",
    "y_pred = base_model.predict(X_test_scaled)\n",
    "\n",
    "# Create probabilities for ROC score\n",
    "probs = base_model.predict_proba(X_test_scaled)\n",
    "probs = probs[:,1]\n",
    "\n",
    "# Calculate AUC score\n",
    "auc_cv_score = cross_val_score(base_model, X_test_scaled, y_test, cv=10, scoring = \"roc_auc\")\n",
    "\n",
    "# Print various model metrics\n",
    "print(\"=== ROC Score ===\")\n",
    "print(\"ROC - Random Forest: \", round(roc_auc_score(y_test,probs),3))\n",
    "print('\\n')\n",
    "print(\"=== Mean AUC Score ===\")\n",
    "print(\"Mean AUC Score - Random Forest: \", round(np.nanmean(auc_cv_score), 3)) \n",
    "print('\\n')\n",
    "\n",
    "# Plot the confusion matrix\n",
    "labels = [\"Actual\",\"Predicted\"]\n",
    "cm = confusion_matrix(y_pred,y_test, labels=[\"1\",\"0\"])\n",
    "disp = ConfusionMatrixDisplay(confusion_matrix=cm)\n",
    "disp.plot(cmap = \"Blues\") \n",
    "disp.ax_.set(xlabel='Actual',ylabel='Predicted', title = 'Confusion Matrix')\n",
    "disp.im_.colorbar.remove()"
   ]
  },
  {
   "cell_type": "markdown",
   "metadata": {
    "papermill": {
     "duration": 0.046263,
     "end_time": "2021-01-14T01:26:35.378079",
     "exception": false,
     "start_time": "2021-01-14T01:26:35.331816",
     "status": "completed"
    },
    "tags": []
   },
   "source": [
    "* Scaling the data increased the AUC score to 0.958.  That went well!\n",
    "* Below are the parameters for the basic model."
   ]
  },
  {
   "cell_type": "code",
   "execution_count": 25,
   "metadata": {
    "execution": {
     "iopub.execute_input": "2021-01-14T01:26:35.476635Z",
     "iopub.status.busy": "2021-01-14T01:26:35.475668Z",
     "iopub.status.idle": "2021-01-14T01:26:35.479383Z",
     "shell.execute_reply": "2021-01-14T01:26:35.480053Z"
    },
    "papermill": {
     "duration": 0.056882,
     "end_time": "2021-01-14T01:26:35.480213",
     "exception": false,
     "start_time": "2021-01-14T01:26:35.423331",
     "status": "completed"
    },
    "tags": []
   },
   "outputs": [
    {
     "data": {
      "text/plain": [
       "{'bootstrap': True,\n",
       " 'ccp_alpha': 0.0,\n",
       " 'class_weight': None,\n",
       " 'criterion': 'gini',\n",
       " 'max_depth': None,\n",
       " 'max_features': 'auto',\n",
       " 'max_leaf_nodes': None,\n",
       " 'max_samples': None,\n",
       " 'min_impurity_decrease': 0.0,\n",
       " 'min_impurity_split': None,\n",
       " 'min_samples_leaf': 1,\n",
       " 'min_samples_split': 2,\n",
       " 'min_weight_fraction_leaf': 0.0,\n",
       " 'n_estimators': 100,\n",
       " 'n_jobs': None,\n",
       " 'oob_score': False,\n",
       " 'random_state': 2112,\n",
       " 'verbose': 0,\n",
       " 'warm_start': False}"
      ]
     },
     "execution_count": 25,
     "metadata": {},
     "output_type": "execute_result"
    }
   ],
   "source": [
    "base_model.get_params()"
   ]
  },
  {
   "cell_type": "markdown",
   "metadata": {
    "papermill": {
     "duration": 0.067922,
     "end_time": "2021-01-14T01:26:35.616686",
     "exception": false,
     "start_time": "2021-01-14T01:26:35.548764",
     "status": "completed"
    },
    "tags": []
   },
   "source": [
    "* Let's tune the model's hyperparameters to improve the model."
   ]
  },
  {
   "cell_type": "markdown",
   "metadata": {
    "papermill": {
     "duration": 0.067648,
     "end_time": "2021-01-14T01:26:35.751927",
     "exception": false,
     "start_time": "2021-01-14T01:26:35.684279",
     "status": "completed"
    },
    "tags": []
   },
   "source": [
    "## Random Forest Tuned"
   ]
  },
  {
   "cell_type": "code",
   "execution_count": 26,
   "metadata": {
    "execution": {
     "iopub.execute_input": "2021-01-14T01:26:35.891000Z",
     "iopub.status.busy": "2021-01-14T01:26:35.890136Z",
     "iopub.status.idle": "2021-01-14T01:42:24.713813Z",
     "shell.execute_reply": "2021-01-14T01:42:24.714398Z"
    },
    "papermill": {
     "duration": 948.89547,
     "end_time": "2021-01-14T01:42:24.714537",
     "exception": false,
     "start_time": "2021-01-14T01:26:35.819067",
     "status": "completed"
    },
    "tags": []
   },
   "outputs": [
    {
     "name": "stdout",
     "output_type": "stream",
     "text": [
      "Best Parameters using grid search: \n",
      " {'max_depth': 9, 'max_features': 'auto', 'min_samples_leaf': 1, 'min_samples_split': 2}\n"
     ]
    }
   ],
   "source": [
    "# Create the parameter grid\n",
    "parameters = {'max_depth': range(2,15), #Maximum tree depth\n",
    "              'max_features': ['auto', 'sqrt'], #Number of features to consider when looking for the best split\n",
    "              'min_samples_leaf': [1,2,4,6,8,10,12], #Minimum number of samples required to be at a leaf node\n",
    "              'min_samples_split': [1,2,4,6,8,10,12]} #The minimum number of samples required to split an internal node:\n",
    "                         \n",
    "# Create random forest model\n",
    "rf_model = RandomForestClassifier(random_state=2112)\n",
    "\n",
    "# Create exhaustive search over parameters\n",
    "cv_rf = GridSearchCV(rf_model, cv = 10,\n",
    "                     param_grid=parameters, n_jobs = -1)\n",
    "\n",
    "# Fit the grid search to the training data\n",
    "cv_rf.fit(X_train_smote_scaled, y_train_smote)\n",
    "\n",
    "# Print the best parameters\n",
    "print('Best Parameters using grid search: \\n', cv_rf.best_params_)"
   ]
  },
  {
   "cell_type": "code",
   "execution_count": 27,
   "metadata": {
    "execution": {
     "iopub.execute_input": "2021-01-14T01:42:24.801758Z",
     "iopub.status.busy": "2021-01-14T01:42:24.800850Z",
     "iopub.status.idle": "2021-01-14T01:42:27.518865Z",
     "shell.execute_reply": "2021-01-14T01:42:27.518114Z"
    },
    "papermill": {
     "duration": 2.770249,
     "end_time": "2021-01-14T01:42:27.519006",
     "exception": false,
     "start_time": "2021-01-14T01:42:24.748757",
     "status": "completed"
    },
    "tags": []
   },
   "outputs": [
    {
     "name": "stdout",
     "output_type": "stream",
     "text": [
      "=== ROC Score ===\n",
      "ROC - Random Forest:  0.821\n",
      "\n",
      "\n",
      "=== Mean AUC Score ===\n",
      "Mean AUC Score - Random Forest:  0.958\n",
      "\n",
      "\n"
     ]
    },
    {
     "data": {
      "image/png": "[encoded data removed]",
      "text/plain": [
       "<Figure size 432x288 with 1 Axes>"
      ]
     },
     "metadata": {
      "needs_background": "light"
     },
     "output_type": "display_data"
    }
   ],
   "source": [
    "# Insert the best parameters into the model\n",
    "rf_model.set_params(max_depth = 9, max_features = 'auto', min_samples_leaf = 1, min_samples_split = 2) \n",
    "\n",
    "# Fit the new model to the training data\n",
    "rf_model.fit(X_train_smote_scaled,y_train_smote)\n",
    "\n",
    "# Create predictions\n",
    "y_pred = rf_model.predict(X_test_scaled)\n",
    "\n",
    "# Create probabilities for ROC score\n",
    "probs = rf_model.predict_proba(X_test_scaled)\n",
    "probs = probs[:,1]\n",
    "\n",
    "# Calculate AUC score\n",
    "auc_cv_score = cross_val_score(rf_model, X_test_scaled, y_test, cv=10, scoring = \"roc_auc\")\n",
    "\n",
    "# Print various model metrics\n",
    "print(\"=== ROC Score ===\")\n",
    "print(\"ROC - Random Forest: \", round(roc_auc_score(y_test,probs),3))\n",
    "print('\\n')\n",
    "print(\"=== Mean AUC Score ===\")\n",
    "print(\"Mean AUC Score - Random Forest: \", round(np.nanmean(auc_cv_score), 3))\n",
    "print('\\n')\n",
    "\n",
    "# Plot the confusion matrix\n",
    "labels = [\"Actual\",\"Predicted\"]\n",
    "cm = confusion_matrix(y_pred,y_test, labels=[\"1\",\"0\"])\n",
    "disp = ConfusionMatrixDisplay(confusion_matrix=cm)\n",
    "disp.plot(cmap = \"Blues\") \n",
    "disp.ax_.set(xlabel='Actual',ylabel='Predicted', title = 'Confusion Matrix')\n",
    "disp.im_.colorbar.remove()"
   ]
  },
  {
   "cell_type": "markdown",
   "metadata": {
    "papermill": {
     "duration": 0.046466,
     "end_time": "2021-01-14T01:42:27.620489",
     "exception": false,
     "start_time": "2021-01-14T01:42:27.574023",
     "status": "completed"
    },
    "tags": []
   },
   "source": [
    "* The model did not improve.  I suspect this is due to the small size of the dataset.  \n",
    "* Below is a plot of each feature's relative importance in the model."
   ]
  },
  {
   "cell_type": "code",
   "execution_count": 28,
   "metadata": {
    "execution": {
     "iopub.execute_input": "2021-01-14T01:42:27.720005Z",
     "iopub.status.busy": "2021-01-14T01:42:27.718868Z",
     "iopub.status.idle": "2021-01-14T01:42:27.962850Z",
     "shell.execute_reply": "2021-01-14T01:42:27.962078Z"
    },
    "papermill": {
     "duration": 0.294846,
     "end_time": "2021-01-14T01:42:27.962987",
     "exception": false,
     "start_time": "2021-01-14T01:42:27.668141",
     "status": "completed"
    },
    "tags": []
   },
   "outputs": [
    {
     "data": {
      "text/plain": [
       "<matplotlib.axes._subplots.AxesSubplot at 0x7f16fde7e710>"
      ]
     },
     "execution_count": 28,
     "metadata": {},
     "output_type": "execute_result"
    },
    {
     "data": {
      "image/png": "[encoded data removed]",
      "text/plain": [
       "<Figure size 432x288 with 1 Axes>"
      ]
     },
     "metadata": {
      "needs_background": "light"
     },
     "output_type": "display_data"
    }
   ],
   "source": [
    "feat_importances = pd.Series(rf_model.feature_importances_, index=df.columns[:10])\n",
    "feat_importances.nsmallest(10).plot(kind='barh')"
   ]
  },
  {
   "cell_type": "markdown",
   "metadata": {
    "papermill": {
     "duration": 0.070838,
     "end_time": "2021-01-14T01:42:28.106114",
     "exception": false,
     "start_time": "2021-01-14T01:42:28.035276",
     "status": "completed"
    },
    "tags": []
   },
   "source": [
    "I reran the models after dropping different numbers of the least important variables, but this did not significantly change the results."
   ]
  },
  {
   "cell_type": "code",
   "execution_count": 29,
   "metadata": {
    "execution": {
     "iopub.execute_input": "2021-01-14T01:42:28.252657Z",
     "iopub.status.busy": "2021-01-14T01:42:28.251796Z",
     "iopub.status.idle": "2021-01-14T01:42:28.255523Z",
     "shell.execute_reply": "2021-01-14T01:42:28.256291Z"
    },
    "papermill": {
     "duration": 0.078851,
     "end_time": "2021-01-14T01:42:28.256441",
     "exception": false,
     "start_time": "2021-01-14T01:42:28.177590",
     "status": "completed"
    },
    "tags": []
   },
   "outputs": [],
   "source": [
    "#df.drop(['time_signature','danceability','length','liveness','instrumentalness','tempo','speechiness'], axis = 1, inplace = True)"
   ]
  },
  {
   "cell_type": "markdown",
   "metadata": {
    "papermill": {
     "duration": 0.070632,
     "end_time": "2021-01-14T01:42:28.398283",
     "exception": false,
     "start_time": "2021-01-14T01:42:28.327651",
     "status": "completed"
    },
    "tags": []
   },
   "source": [
    "# Conclusion\n",
    "\n",
    "* I predicted that popularity, danceability, and acousticness would be significant variables.\n",
    "* My intuitions about danceability and tempo were not correct.  Danceability is one of the least important variables, and tempo is one of the most important!\n",
    "* FYI - I've tried dancing to a variety of Rush's music.  I wouldn't recommend it.  You may hurt yourself give the band's time signature changes.\n",
    "\n",
    "Below is a summary of the AUC scores for each model.\n",
    "\n",
    "* Base Model: .933\n",
    "* Base Model Scaled: .958\n",
    "* Tuned Model Scaled: .958\n",
    "\n",
    "Final Thoughts\n",
    "\n",
    "* The models that used scaled data performed the best.\n",
    "* Unfortunately, I was not able to increase the model performance by tuning its hyperparameters.  I believe this is due to the small size of the dataset. "
   ]
  }
 ],
 "metadata": {
  "kernelspec": {
   "display_name": "Python 3",
   "language": "python",
   "name": "python3"
  },
  "language_info": {
   "codemirror_mode": {
    "name": "ipython",
    "version": 3
   },
   "file_extension": ".py",
   "mimetype": "text/x-python",
   "name": "python",
   "nbconvert_exporter": "python",
   "pygments_lexer": "ipython3",
   "version": "3.7.6"
  },
  "papermill": {
   "duration": 983.5109,
   "end_time": "2021-01-14T01:42:29.532380",
   "environment_variables": {},
   "exception": null,
   "input_path": "__notebook__.ipynb",
   "output_path": "__notebook__.ipynb",
   "parameters": {},
   "start_time": "2021-01-14T01:26:06.021480",
   "version": "2.1.0"
  }
 },
 "nbformat": 4,
 "nbformat_minor": 4
}
